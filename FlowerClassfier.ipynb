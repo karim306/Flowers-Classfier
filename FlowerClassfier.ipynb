{
  "nbformat": 4,
  "nbformat_minor": 0,
  "metadata": {
    "colab": {
      "provenance": [],
      "authorship_tag": "ABX9TyNjVqYrqST0Gfwes35ERlgi",
      "include_colab_link": true
    },
    "kernelspec": {
      "name": "python3",
      "display_name": "Python 3"
    },
    "language_info": {
      "name": "python"
    }
  },
  "cells": [
    {
      "cell_type": "markdown",
      "metadata": {
        "id": "view-in-github",
        "colab_type": "text"
      },
      "source": [
        "<a href=\"https://colab.research.google.com/github/karim306/Flowers-Classfier/blob/main/FlowerClassfier.ipynb\" target=\"_parent\"><img src=\"https://colab.research.google.com/assets/colab-badge.svg\" alt=\"Open In Colab\"/></a>"
      ]
    },
    {
      "cell_type": "code",
      "execution_count": 1,
      "metadata": {
        "id": "r-2BZ21lgYpS"
      },
      "outputs": [],
      "source": [
        "import os\n",
        "os.environ['KAGGLE_USERNAME'] = \"kareemahm3d\" # username from the json file\n",
        "os.environ['KAGGLE_KEY'] = \"xxxx\" # key from the json fil"
      ]
    },
    {
      "cell_type": "markdown",
      "source": [
        "# Download The DataSet\n"
      ],
      "metadata": {
        "id": "qJubwwCZixpY"
      }
    },
    {
      "cell_type": "code",
      "source": [
        "!kaggle datasets download -d kausthubkannan/5-flower-types-classification-dataset"
      ],
      "metadata": {
        "colab": {
          "base_uri": "https://localhost:8080/"
        },
        "id": "_TmKYRtTiMS_",
        "outputId": "f4c64560-e70c-43f2-8235-24f7963a698a"
      },
      "execution_count": 2,
      "outputs": [
        {
          "output_type": "stream",
          "name": "stdout",
          "text": [
            "Dataset URL: https://www.kaggle.com/datasets/kausthubkannan/5-flower-types-classification-dataset\n",
            "License(s): other\n",
            "Downloading 5-flower-types-classification-dataset.zip to /content\n",
            " 91% 221M/242M [00:02<00:00, 78.0MB/s]\n",
            "100% 242M/242M [00:02<00:00, 100MB/s] \n"
          ]
        }
      ]
    },
    {
      "cell_type": "markdown",
      "source": [
        "# Unzip the dataset\n"
      ],
      "metadata": {
        "id": "0RvHIhn2irCI"
      }
    },
    {
      "cell_type": "code",
      "source": [
        "# Unzip the dataset into the same directory\n",
        "!unzip -q 5-flower-types-classification-dataset.zip -d ./5-flower-dataset\n"
      ],
      "metadata": {
        "id": "1DEG8dyIiXcQ"
      },
      "execution_count": 3,
      "outputs": []
    },
    {
      "cell_type": "markdown",
      "source": [
        "# **Split The Data**"
      ],
      "metadata": {
        "id": "QC9N6yQxnJmX"
      }
    },
    {
      "cell_type": "code",
      "source": [
        "import os\n",
        "import shutil\n",
        "from sklearn.model_selection import train_test_split\n",
        "\n",
        "# Original dataset directory\n",
        "base_dir = './5-flower-dataset'  # Replace with the actual dataset directory\n",
        "\n",
        "# Paths for the new directories outside of the original dataset folder\n",
        "output_base = './split_data'  # Directory to contain train, val, and test directories\n",
        "train_dir = os.path.join(output_base, 'train')\n",
        "val_dir = os.path.join(output_base, 'val')\n",
        "test_dir = os.path.join(output_base, 'test')\n",
        "\n",
        "# Create the directories if they don't exist\n",
        "os.makedirs(train_dir, exist_ok=True)\n",
        "os.makedirs(val_dir, exist_ok=True)\n",
        "os.makedirs(test_dir, exist_ok=True)\n",
        "\n",
        "# Get the classes (subfolders) from the original dataset\n",
        "classes = [folder for folder in os.listdir(base_dir) if os.path.isdir(os.path.join(base_dir, folder))]\n",
        "for cls in classes:\n",
        "    os.makedirs(os.path.join(train_dir, cls), exist_ok=True)\n",
        "    os.makedirs(os.path.join(val_dir, cls), exist_ok=True)\n",
        "    os.makedirs(os.path.join(test_dir, cls), exist_ok=True)\n"
      ],
      "metadata": {
        "id": "RpI7oDmvjxH_"
      },
      "execution_count": 5,
      "outputs": []
    },
    {
      "cell_type": "code",
      "source": [
        "# Split data into train, val, and test sets (70% train, 20% val, 10% test)\n",
        "for cls in classes:\n",
        "    cls_path = os.path.join(base_dir, cls)\n",
        "    images = [f for f in os.listdir(cls_path) if os.path.isfile(os.path.join(cls_path, f))]\n",
        "\n",
        "    if len(images) == 0:\n",
        "        print(f\"Warning: No images found for class '{cls}'. Skipping.\")\n",
        "        continue  # Skip empty directories\n",
        "\n",
        "    # Split into train and remaining (val + test)\n",
        "    train_images, val_test_images = train_test_split(images, test_size=0.3, random_state=42)\n",
        "    # Split val + test into separate validation and test sets\n",
        "    val_images, test_images = train_test_split(val_test_images, test_size=0.33, random_state=42)  # 33% of 30% = 10%\n",
        "\n",
        "    # Move images to respective directories\n",
        "    for img in train_images:\n",
        "        shutil.copy(os.path.join(cls_path, img), os.path.join(train_dir, cls, img))\n",
        "    for img in val_images:\n",
        "        shutil.copy(os.path.join(cls_path, img), os.path.join(val_dir, cls, img))\n",
        "    for img in test_images:\n",
        "        shutil.copy(os.path.join(cls_path, img), os.path.join(test_dir, cls, img))\n"
      ],
      "metadata": {
        "colab": {
          "base_uri": "https://localhost:8080/"
        },
        "id": "bf4P29ssi4tA",
        "outputId": "a817ccfe-bd78-40d0-ed5a-6768b9cc8c96"
      },
      "execution_count": 9,
      "outputs": [
        {
          "output_type": "stream",
          "name": "stdout",
          "text": [
            "Warning: No images found for class 'train'. Skipping.\n",
            "Warning: No images found for class 'test'. Skipping.\n",
            "Warning: No images found for class 'val'. Skipping.\n"
          ]
        }
      ]
    },
    {
      "cell_type": "code",
      "source": [
        "import shutil\n",
        "import os\n",
        "\n",
        "# Path to the split directories\n",
        "for dir_path in [train_dir, val_dir, test_dir]:\n",
        "    for root, dirs, files in os.walk(dir_path):\n",
        "        for dir_name in dirs:\n",
        "            # Check if the folder name is 'train', 'val', or 'test'\n",
        "            if dir_name in ['train', 'val', 'test','flower_images']:\n",
        "                unwanted_dir = os.path.join(root, dir_name)\n",
        "                shutil.rmtree(unwanted_dir)  # Remove the unwanted directory\n",
        "                print(f\"Removed unwanted folder: {unwanted_dir}\")\n"
      ],
      "metadata": {
        "colab": {
          "base_uri": "https://localhost:8080/"
        },
        "id": "FNy-2Pkgmo8H",
        "outputId": "a432ffba-22e9-4b4b-c118-af687f1ad050"
      },
      "execution_count": 13,
      "outputs": [
        {
          "output_type": "stream",
          "name": "stdout",
          "text": [
            "Removed unwanted folder: ./split_data/train/flower_images\n",
            "Removed unwanted folder: ./split_data/val/flower_images\n",
            "Removed unwanted folder: ./split_data/test/flower_images\n"
          ]
        }
      ]
    },
    {
      "cell_type": "markdown",
      "source": [
        "# **Class Names**"
      ],
      "metadata": {
        "id": "jlTgQWnbnDp_"
      }
    },
    {
      "cell_type": "code",
      "source": [
        "import os\n",
        "\n",
        "def class_name_from_folder(folder_path):\n",
        "  \"\"\"\n",
        "  Extracts class names from subfolders within a given folder.\n",
        "\n",
        "  Args:\n",
        "    folder_path: The path to the folder containing class subfolders.\n",
        "\n",
        "  Returns:\n",
        "    A list of class names (subfolder names).\n",
        "  \"\"\"\n",
        "  return [f for f in os.listdir(folder_path) if os.path.isdir(os.path.join(folder_path, f))]\n",
        "\n",
        "class_name = class_name_from_folder('/content/split_data/train')\n",
        "class_name"
      ],
      "metadata": {
        "colab": {
          "base_uri": "https://localhost:8080/"
        },
        "id": "_y-YaY1aldpf",
        "outputId": "5b11097a-4390-4a92-fec7-1ff52cb7313c"
      },
      "execution_count": 14,
      "outputs": [
        {
          "output_type": "execute_result",
          "data": {
            "text/plain": [
              "['Tulip', 'Sunflower', 'Lotus', 'Orchid', 'Lilly']"
            ]
          },
          "metadata": {},
          "execution_count": 14
        }
      ]
    }
  ]
}